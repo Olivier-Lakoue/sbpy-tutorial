{
 "cells": [
  {
   "cell_type": "markdown",
   "metadata": {},
   "source": [
    "# An sbpy Example\n",
    "\n",
    "Imagine you're a graduate student and your mentor has some very urgent tasks for you:\n",
    "\n",
    "1. Here is a list of asteroids. Check which of those are observable tonight from Maunakea and send that list to our observer: 1 Ceres, 10, 3200 Phaethon, 3552 Don Quixote, 12893 (1998 QS55), 12345 (1993 FT8), 230 Athamantis, 4500, 3456, 135065\n",
    "2. Once we have the data in hand, check if either of these objects is brighter than it should be."
   ]
  },
  {
   "cell_type": "code",
   "execution_count": 58,
   "metadata": {},
   "outputs": [],
   "source": [
    "from sbpy import bib\n",
    "\n",
    "bib.track()"
   ]
  },
  {
   "cell_type": "markdown",
   "metadata": {},
   "source": [
    "## 1. Checking observability"
   ]
  },
  {
   "cell_type": "code",
   "execution_count": 30,
   "metadata": {},
   "outputs": [],
   "source": [
    "asteroids =['1 Ceres', '10', '3200 Phaethon', '3552 Don Quixote', '12893 (1998 QS55)', \n",
    "            '12345 (1993 FT8)', '230 Athamantis', '4500', '3456', '135065']"
   ]
  },
  {
   "cell_type": "markdown",
   "metadata": {},
   "source": [
    "We need a uniform set of names, designations, or numbers. In this case, we pick numbers:"
   ]
  },
  {
   "cell_type": "code",
   "execution_count": 31,
   "metadata": {},
   "outputs": [],
   "source": [
    "from sbpy.data import Names"
   ]
  },
  {
   "cell_type": "code",
   "execution_count": 59,
   "metadata": {},
   "outputs": [
    {
     "name": "stdout",
     "output_type": "stream",
     "text": [
      "{'number': 1, 'name': 'Ceres'}\n",
      "{'number': 10}\n",
      "{'number': 3200, 'name': 'Phaethon'}\n",
      "{'number': 3552, 'name': 'Don Quixote'}\n",
      "{'number': 12893, 'desig': '1998 QS55'}\n",
      "{'number': 12345, 'desig': '1993 FT8'}\n",
      "{'number': 230, 'name': 'Athamantis'}\n",
      "{'number': 4500}\n",
      "{'number': 3456}\n",
      "{'number': 135065}\n"
     ]
    }
   ],
   "source": [
    "ast_numbers = []\n",
    "\n",
    "for ast in asteroids:\n",
    "    ident = Names.parse_asteroid(ast)\n",
    "    print(ident)\n",
    "    ast_numbers.append(ident['number'])"
   ]
  },
  {
   "cell_type": "code",
   "execution_count": 60,
   "metadata": {},
   "outputs": [
    {
     "data": {
      "text/plain": [
       "[1, 10, 3200, 3552, 12893, 12345, 230, 4500, 3456, 135065]"
      ]
     },
     "execution_count": 60,
     "metadata": {},
     "output_type": "execute_result"
    }
   ],
   "source": [
    "ast_numbers"
   ]
  },
  {
   "cell_type": "markdown",
   "metadata": {},
   "source": [
    "We retrieve ephemerides for these targets:"
   ]
  },
  {
   "cell_type": "code",
   "execution_count": 61,
   "metadata": {},
   "outputs": [],
   "source": [
    "from sbpy.data import Ephem\n",
    "from astropy.time import Time\n",
    "import astropy.units as u\n",
    "\n",
    "eph = Ephem.from_horizons(ast_numbers, epochs={'start': Time('2019-09-18'), 'stop': Time('2019-09-19'), 'step': 1*u.h},\n",
    "                          location='568')"
   ]
  },
  {
   "cell_type": "code",
   "execution_count": 62,
   "metadata": {},
   "outputs": [
    {
     "data": {
      "text/plain": [
       "['targetname',\n",
       " 'H',\n",
       " 'G',\n",
       " 'solar_presence',\n",
       " 'flags',\n",
       " 'RA',\n",
       " 'DEC',\n",
       " 'RA_app',\n",
       " 'DEC_app',\n",
       " 'RA*cos(Dec)_rate',\n",
       " 'DEC_rate',\n",
       " 'AZ',\n",
       " 'EL',\n",
       " 'AZ_rate',\n",
       " 'EL_rate',\n",
       " 'sat_X',\n",
       " 'sat_Y',\n",
       " 'sat_PANG',\n",
       " 'siderealtime',\n",
       " 'airmass',\n",
       " 'magextinct',\n",
       " 'V',\n",
       " 'surfbright',\n",
       " 'illumination',\n",
       " 'illum_defect',\n",
       " 'sat_sep',\n",
       " 'sat_vis',\n",
       " 'ang_width',\n",
       " 'PDObsLon',\n",
       " 'PDObsLat',\n",
       " 'PDSunLon',\n",
       " 'PDSunLat',\n",
       " 'SubSol_ang',\n",
       " 'SubSol_dist',\n",
       " 'NPole_ang',\n",
       " 'NPole_dist',\n",
       " 'EclLon',\n",
       " 'EclLat',\n",
       " 'r',\n",
       " 'r_rate',\n",
       " 'delta',\n",
       " 'delta_rate',\n",
       " 'lighttime',\n",
       " 'vel_sun',\n",
       " 'vel_obs',\n",
       " 'elong',\n",
       " 'elongFlag',\n",
       " 'alpha',\n",
       " 'lunar_elong',\n",
       " 'lunar_illum',\n",
       " 'sat_alpha',\n",
       " 'sunTargetPA',\n",
       " 'velocityPA',\n",
       " 'OrbPlaneAng',\n",
       " 'constellation',\n",
       " 'TDB-UT',\n",
       " 'ObsEclLon',\n",
       " 'ObsEclLat',\n",
       " 'NPole_RA',\n",
       " 'NPole_DEC',\n",
       " 'GlxLon',\n",
       " 'GlxLat',\n",
       " 'solartime',\n",
       " 'earth_lighttime',\n",
       " 'RA_3sigma',\n",
       " 'DEC_3sigma',\n",
       " 'SMAA_3sigma',\n",
       " 'SMIA_3sigma',\n",
       " 'Theta_3sigma',\n",
       " 'Area_3sigma',\n",
       " 'RSS_3sigma',\n",
       " 'r_3sigma',\n",
       " 'r_rate_3sigma',\n",
       " 'SBand_3sigma',\n",
       " 'XBand_3sigma',\n",
       " 'DoppDelay_3sigma',\n",
       " 'true_anom',\n",
       " 'hour_angle',\n",
       " 'alpha_true',\n",
       " 'PABLon',\n",
       " 'PABLat',\n",
       " 'epoch']"
      ]
     },
     "execution_count": 62,
     "metadata": {},
     "output_type": "execute_result"
    }
   ],
   "source": [
    "list(eph.field_names)"
   ]
  },
  {
   "cell_type": "code",
   "execution_count": 63,
   "metadata": {},
   "outputs": [
    {
     "data": {
      "text/plain": [
       "<QTable masked=True length=250>\n",
       "    targetname        H       G    ...  PABLon   PABLat       epoch      \n",
       "                     mag           ...   deg      deg                    \n",
       "      str28        float64 float64 ... float64  float64       object     \n",
       "------------------ ------- ------- ... -------- ------- -----------------\n",
       "           1 Ceres    3.34    0.12 ... 259.9317 -1.7911         2458744.5\n",
       "           1 Ceres    3.34    0.12 ... 259.9414 -1.7925 2458744.541666667\n",
       "           1 Ceres    3.34    0.12 ... 259.9512 -1.7939 2458744.583333333\n",
       "           1 Ceres    3.34    0.12 ...  259.961 -1.7952       2458744.625\n",
       "           1 Ceres    3.34    0.12 ... 259.9707 -1.7966 2458744.666666667\n",
       "           1 Ceres    3.34    0.12 ... 259.9805  -1.798 2458744.708333333\n",
       "           1 Ceres    3.34    0.12 ... 259.9903 -1.7993        2458744.75\n",
       "           1 Ceres    3.34    0.12 ... 260.0001 -1.8006 2458744.791666667\n",
       "           1 Ceres    3.34    0.12 ... 260.0099 -1.8019 2458744.833333333\n",
       "               ...     ...     ... ...      ...     ...               ...\n",
       "135065 (2001 PF18)    14.3    0.15 ... 144.8603  6.8868       2458745.125\n",
       "135065 (2001 PF18)    14.3    0.15 ... 144.8713  6.8856 2458745.166666667\n",
       "135065 (2001 PF18)    14.3    0.15 ... 144.8824  6.8844 2458745.208333333\n",
       "135065 (2001 PF18)    14.3    0.15 ... 144.8934  6.8832        2458745.25\n",
       "135065 (2001 PF18)    14.3    0.15 ... 144.9044  6.8819 2458745.291666667\n",
       "135065 (2001 PF18)    14.3    0.15 ... 144.9154  6.8807 2458745.333333333\n",
       "135065 (2001 PF18)    14.3    0.15 ... 144.9264  6.8795       2458745.375\n",
       "135065 (2001 PF18)    14.3    0.15 ... 144.9374  6.8782 2458745.416666667\n",
       "135065 (2001 PF18)    14.3    0.15 ... 144.9484   6.877 2458745.458333333\n",
       "135065 (2001 PF18)    14.3    0.15 ... 144.9594  6.8757         2458745.5"
      ]
     },
     "execution_count": 63,
     "metadata": {},
     "output_type": "execute_result"
    }
   ],
   "source": [
    "eph"
   ]
  },
  {
   "cell_type": "markdown",
   "metadata": {},
   "source": [
    "We select only those ephemerides when the target has an airmass less than 2 and when it's really dark:"
   ]
  },
  {
   "cell_type": "code",
   "execution_count": 64,
   "metadata": {},
   "outputs": [],
   "source": [
    "eph = eph[eph['airmass'] < 2]  # make a cut on airmass\n",
    "eph = eph[eph['solar_presence'] == '']  # only dark time"
   ]
  },
  {
   "cell_type": "code",
   "execution_count": 65,
   "metadata": {},
   "outputs": [
    {
     "data": {
      "text/html": [
       "<i>QTable masked=True length=11</i>\n",
       "<table id=\"table140010477776232\" class=\"table-striped table-bordered table-condensed\">\n",
       "<thead><tr><th>targetname</th><th>H</th><th>G</th><th>solar_presence</th><th>flags</th><th>RA</th><th>DEC</th><th>RA_app</th><th>DEC_app</th><th>RA*cos(Dec)_rate</th><th>DEC_rate</th><th>AZ</th><th>EL</th><th>AZ_rate</th><th>EL_rate</th><th>sat_X</th><th>sat_Y</th><th>sat_PANG</th><th>siderealtime</th><th>airmass</th><th>magextinct</th><th>V</th><th>surfbright</th><th>illumination</th><th>illum_defect</th><th>sat_sep</th><th>sat_vis</th><th>ang_width</th><th>PDObsLon</th><th>PDObsLat</th><th>PDSunLon</th><th>PDSunLat</th><th>SubSol_ang</th><th>SubSol_dist</th><th>NPole_ang</th><th>NPole_dist</th><th>EclLon</th><th>EclLat</th><th>r</th><th>r_rate</th><th>delta</th><th>delta_rate</th><th>lighttime</th><th>vel_sun</th><th>vel_obs</th><th>elong</th><th>elongFlag</th><th>alpha</th><th>lunar_elong</th><th>lunar_illum</th><th>sat_alpha</th><th>sunTargetPA</th><th>velocityPA</th><th>OrbPlaneAng</th><th>constellation</th><th>TDB-UT</th><th>ObsEclLon</th><th>ObsEclLat</th><th>NPole_RA</th><th>NPole_DEC</th><th>GlxLon</th><th>GlxLat</th><th>solartime</th><th>earth_lighttime</th><th>RA_3sigma</th><th>DEC_3sigma</th><th>SMAA_3sigma</th><th>SMIA_3sigma</th><th>Theta_3sigma</th><th>Area_3sigma</th><th>RSS_3sigma</th><th>r_3sigma</th><th>r_rate_3sigma</th><th>SBand_3sigma</th><th>XBand_3sigma</th><th>DoppDelay_3sigma</th><th>true_anom</th><th>hour_angle</th><th>alpha_true</th><th>PABLon</th><th>PABLat</th><th>epoch</th></tr></thead>\n",
       "<thead><tr><th></th><th>mag</th><th></th><th></th><th></th><th>deg</th><th>deg</th><th>deg</th><th>deg</th><th>arcsec / h</th><th>arcsec / h</th><th>deg</th><th>deg</th><th>arcsec / min</th><th>arcsec / min</th><th>arcsec</th><th>arcsec</th><th>deg</th><th>h</th><th></th><th>mag</th><th>mag</th><th>mag / arcsec2</th><th>%</th><th>arcsec</th><th>arcsec</th><th></th><th>arcsec</th><th>deg</th><th>deg</th><th>deg</th><th>deg</th><th>deg</th><th>arcsec</th><th>deg</th><th>arcsec</th><th>deg</th><th>deg</th><th>AU</th><th>km / s</th><th>AU</th><th>km / s</th><th>min</th><th>km / s</th><th>km / s</th><th>deg</th><th></th><th>deg</th><th>deg</th><th>%</th><th>deg</th><th>deg</th><th>deg</th><th>deg</th><th></th><th>s</th><th>deg</th><th>deg</th><th>deg</th><th>deg</th><th>deg</th><th>deg</th><th></th><th>min</th><th>arcsec</th><th>arcsec</th><th>arcsec</th><th>arcsec</th><th>deg</th><th>arcsec2</th><th>arcsec</th><th>km</th><th>km / s</th><th>Hz</th><th>Hz</th><th>s</th><th>deg</th><th></th><th>deg</th><th>deg</th><th>deg</th><th></th></tr></thead>\n",
       "<thead><tr><th>str28</th><th>float64</th><th>float64</th><th>str1</th><th>str1</th><th>float64</th><th>float64</th><th>float64</th><th>float64</th><th>float64</th><th>float64</th><th>float64</th><th>float64</th><th>float64</th><th>float64</th><th>float64</th><th>float64</th><th>float64</th><th>float64</th><th>float64</th><th>float64</th><th>float64</th><th>float64</th><th>float64</th><th>float64</th><th>float64</th><th>str1</th><th>float64</th><th>float64</th><th>float64</th><th>float64</th><th>float64</th><th>float64</th><th>float64</th><th>float64</th><th>float64</th><th>float64</th><th>float64</th><th>float64</th><th>float64</th><th>float64</th><th>float64</th><th>float64</th><th>float64</th><th>float64</th><th>float64</th><th>str2</th><th>float64</th><th>float64</th><th>float64</th><th>float64</th><th>float64</th><th>float64</th><th>float64</th><th>str3</th><th>float64</th><th>float64</th><th>float64</th><th>float64</th><th>float64</th><th>float64</th><th>float64</th><th>float64</th><th>float64</th><th>float64</th><th>float64</th><th>float64</th><th>float64</th><th>float64</th><th>float64</th><th>float64</th><th>float64</th><th>float64</th><th>float64</th><th>float64</th><th>float64</th><th>float64</th><th>float64</th><th>float64</th><th>float64</th><th>float64</th><th>object</th></tr></thead>\n",
       "<tr><td>10 Hygiea</td><td>5.43</td><td>0.15</td><td></td><td>m</td><td>67.74221</td><td>25.18771</td><td>68.03933</td><td>25.2278</td><td>9.368429</td><td>2.929782</td><td>72.2547</td><td>33.467</td><td>112.58</td><td>808.43</td><td>-387132.0</td><td>84020.08</td><td>296.769</td><td>0.4402237669</td><td>1.808</td><td>0.197</td><td>11.47</td><td>7.48</td><td>98.032</td><td>0.0036</td><td>378094.2</td><td>*</td><td>0.181279</td><td>0.0</td><td>0.0</td><td>0.0</td><td>0.0</td><td>80.55</td><td>0.03</td><td>0.0</td><td>0.0</td><td>53.7764</td><td>2.9121</td><td>3.494668449686</td><td>0.0613263</td><td>3.09651955244971</td><td>-24.5722019</td><td>25.752968</td><td>15.01186</td><td>25.32355</td><td>105.0262</td><td>/L</td><td>16.129</td><td>28.5</td><td>83.7</td><td>58.8477</td><td>260.437</td><td>264.869</td><td>-1.17753</td><td>Tau</td><td>69.182383</td><td>70.1926231</td><td>3.2887937</td><td>0.0</td><td>0.0</td><td>173.159715</td><td>-15.617214</td><td>0.731257267</td><td>0.000355</td><td>0.048</td><td>0.028</td><td>0.048</td><td>0.028</td><td>4.863</td><td>0.01</td><td>0.056</td><td>36.5724</td><td>3.1e-06</td><td>0.03</td><td>0.11</td><td>0.000244</td><td>178.1498</td><td>-4.095731377</td><td>16.1274</td><td>61.8456</td><td>3.1304</td><td>2458744.958333333</td></tr>\n",
       "<tr><td>10 Hygiea</td><td>5.43</td><td>0.15</td><td></td><td>m</td><td>67.74505</td><td>25.18852</td><td>68.0422</td><td>25.22861</td><td>9.192069</td><td>2.879345</td><td>73.8761</td><td>47.0081</td><td>36.21</td><td>815.43</td><td>-387262.0</td><td>84081.02</td><td>296.772</td><td>1.4429616189</td><td>1.365</td><td>0.149</td><td>11.47</td><td>7.48</td><td>98.033</td><td>0.0036</td><td>378232.4</td><td>*</td><td>0.181314</td><td>0.0</td><td>0.0</td><td>0.0</td><td>0.0</td><td>80.55</td><td>0.03</td><td>0.0</td><td>0.0</td><td>53.7823</td><td>2.9119</td><td>3.494669923236</td><td>0.0611304</td><td>3.095928981603</td><td>-24.507117</td><td>25.748056</td><td>15.01185</td><td>25.23265</td><td>105.0645</td><td>/L</td><td>16.1258</td><td>28.1</td><td>83.5</td><td>58.8125</td><td>260.436</td><td>264.87</td><td>-1.1781</td><td>Tau</td><td>69.182384</td><td>70.195319</td><td>3.2892108</td><td>0.0</td><td>0.0</td><td>173.160838</td><td>-15.614715</td><td>1.7314677449</td><td>0.000355</td><td>0.048</td><td>0.028</td><td>0.048</td><td>0.028</td><td>4.862</td><td>0.01</td><td>0.056</td><td>36.5675</td><td>3.1e-06</td><td>0.03</td><td>0.11</td><td>0.000244</td><td>178.1558</td><td>-3.09318509</td><td>16.1242</td><td>61.8499</td><td>3.1305</td><td>2458745.0</td></tr>\n",
       "<tr><td>10 Hygiea</td><td>5.43</td><td>0.15</td><td></td><td>m</td><td>67.74785</td><td>25.18931</td><td>68.04502</td><td>25.22941</td><td>9.048781</td><td>2.81403</td><td>73.5516</td><td>60.6034</td><td>-59.23</td><td>814.07</td><td>-387391.0</td><td>84141.89</td><td>296.774</td><td>2.445699472</td><td>1.147</td><td>0.125</td><td>11.47</td><td>7.48</td><td>98.034</td><td>0.0036</td><td>378370.5</td><td>*</td><td>0.181348</td><td>0.0</td><td>0.0</td><td>0.0</td><td>0.0</td><td>80.55</td><td>0.03</td><td>0.0</td><td>0.0</td><td>53.7883</td><td>2.9116</td><td>3.494671392073</td><td>0.0609345</td><td>3.09534022335358</td><td>-24.4223743</td><td>25.74316</td><td>15.01184</td><td>25.12698</td><td>105.1029</td><td>/L</td><td>16.1226</td><td>27.8</td><td>83.3</td><td>58.7774</td><td>260.434</td><td>264.871</td><td>-1.17865</td><td>Tau</td><td>69.182384</td><td>70.1979647</td><td>3.289621</td><td>0.0</td><td>0.0</td><td>173.161939</td><td>-15.612263</td><td>2.7316824215</td><td>0.000355</td><td>0.048</td><td>0.028</td><td>0.048</td><td>0.028</td><td>4.861</td><td>0.01</td><td>0.056</td><td>36.5625</td><td>3.1e-06</td><td>0.03</td><td>0.11</td><td>0.000244</td><td>178.1617</td><td>-2.090635226</td><td>16.1209</td><td>61.8541</td><td>3.1305</td><td>2458745.041666667</td></tr>\n",
       "<tr><td>10 Hygiea</td><td>5.43</td><td>0.15</td><td></td><td>m</td><td>67.75061</td><td>25.19009</td><td>68.0478</td><td>25.23019</td><td>8.946496</td><td>2.738001</td><td>67.2609</td><td>74.0</td><td>-231.08</td><td>782.83</td><td>-387521.0</td><td>84202.69</td><td>296.776</td><td>3.4484373264</td><td>1.04</td><td>0.113</td><td>11.47</td><td>7.48</td><td>98.035</td><td>0.0036</td><td>378508.6</td><td>*</td><td>0.181383</td><td>0.0</td><td>0.0</td><td>0.0</td><td>0.0</td><td>80.55</td><td>0.03</td><td>0.0</td><td>0.0</td><td>53.7942</td><td>2.9113</td><td>3.494672856195</td><td>0.0607387</td><td>3.09475368657875</td><td>-24.3235024</td><td>25.738282</td><td>15.01184</td><td>25.01306</td><td>105.1413</td><td>/L</td><td>16.1192</td><td>27.5</td><td>83.1</td><td>58.7423</td><td>260.432</td><td>264.872</td><td>-1.17918</td><td>Tau</td><td>69.182384</td><td>70.2005689</td><td>3.2900188</td><td>0.0</td><td>0.0</td><td>173.163029</td><td>-15.609852</td><td>3.7319036188</td><td>0.000355</td><td>0.048</td><td>0.028</td><td>0.048</td><td>0.028</td><td>4.859</td><td>0.01</td><td>0.056</td><td>36.5574</td><td>3.1e-06</td><td>0.03</td><td>0.11</td><td>0.000244</td><td>178.1676</td><td>-1.088082478</td><td>16.1176</td><td>61.8584</td><td>3.1306</td><td>2458745.083333333</td></tr>\n",
       "<tr><td>3200 Phaethon (1983 TB)</td><td>14.6</td><td>0.15</td><td></td><td>m</td><td>60.89642</td><td>53.18254</td><td>61.27483</td><td>53.23181</td><td>-79.4354</td><td>25.96226</td><td>37.5107</td><td>36.6777</td><td>-157.57</td><td>518.09</td><td>-411471.0</td><td>184834.5</td><td>326.011</td><td>0.4402237669</td><td>1.67</td><td>0.182</td><td>16.98</td><td>6.38</td><td>88.299</td><td>0.0011</td><td>369827.3</td><td>*</td><td>0.009105</td><td>0.0</td><td>0.0</td><td>0.0</td><td>0.0</td><td>68.98</td><td>0.0</td><td>0.0</td><td>0.0</td><td>27.6192</td><td>19.0645</td><td>1.524844164581</td><td>19.1005438</td><td>0.94648122274493</td><td>-4.7724126</td><td>7.871644</td><td>21.58167</td><td>16.6349</td><td>102.7298</td><td>/L</td><td>40.0067</td><td>44.8</td><td>83.7</td><td>37.265</td><td>248.81</td><td>23.761</td><td>-23.70782</td><td>Cam</td><td>69.182383</td><td>70.2262266</td><td>31.7493552</td><td>0.0</td><td>0.0</td><td>149.398041</td><td>0.481923</td><td>0.731257267</td><td>0.000355</td><td>0.012</td><td>0.013</td><td>0.013</td><td>0.012</td><td>79.821</td><td>0.0</td><td>0.018</td><td>12.2657</td><td>7e-07</td><td>0.02</td><td>0.08</td><td>8.2e-05</td><td>158.2437</td><td>-3.64476478</td><td>40.0055</td><td>47.6144</td><td>26.9878</td><td>2458744.958333333</td></tr>\n",
       "<tr><td>3200 Phaethon (1983 TB)</td><td>14.6</td><td>0.15</td><td></td><td>m</td><td>60.85943</td><td>53.18963</td><td>61.23787</td><td>53.23899</td><td>-79.9805</td><td>25.57222</td><td>32.5648</td><td>44.875</td><td>-288.99</td><td>457.86</td><td>-411744.0</td><td>184918.4</td><td>326.033</td><td>1.4429616189</td><td>1.415</td><td>0.154</td><td>16.98</td><td>6.38</td><td>88.313</td><td>0.0011</td><td>370016.7</td><td>*</td><td>0.009106</td><td>0.0</td><td>0.0</td><td>0.0</td><td>0.0</td><td>68.92</td><td>0.0</td><td>0.0</td><td>0.0</td><td>27.6286</td><td>19.0627</td><td>1.525303725844</td><td>19.0929572</td><td>0.94636696812838</td><td>-4.7216827</td><td>7.870694</td><td>21.57355</td><td>16.69147</td><td>102.7824</td><td>/L</td><td>39.9815</td><td>44.6</td><td>83.5</td><td>37.2376</td><td>248.754</td><td>23.653</td><td>-23.71076</td><td>Cam</td><td>69.182384</td><td>70.2027743</td><td>31.7613202</td><td>0.0</td><td>0.0</td><td>149.376732</td><td>0.472605</td><td>1.7314677449</td><td>0.000355</td><td>0.012</td><td>0.013</td><td>0.013</td><td>0.012</td><td>79.979</td><td>0.0</td><td>0.018</td><td>12.2611</td><td>7e-07</td><td>0.02</td><td>0.08</td><td>8.2e-05</td><td>158.2528</td><td>-2.639562913</td><td>39.9803</td><td>47.6069</td><td>26.9905</td><td>2458745.0</td></tr>\n",
       "<tr><td>3200 Phaethon (1983 TB)</td><td>14.6</td><td>0.15</td><td></td><td>m</td><td>60.82221</td><td>53.19661</td><td>61.20067</td><td>53.24604</td><td>-80.4038</td><td>25.10075</td><td>23.572</td><td>51.62</td><td>-421.25</td><td>340.02</td><td>-412018.0</td><td>185001.8</td><td>326.054</td><td>2.445699472</td><td>1.274</td><td>0.139</td><td>16.98</td><td>6.38</td><td>88.327</td><td>0.0011</td><td>370206.5</td><td>*</td><td>0.009107</td><td>0.0</td><td>0.0</td><td>0.0</td><td>0.0</td><td>68.86</td><td>0.0</td><td>0.0</td><td>0.0</td><td>27.638</td><td>19.0608</td><td>1.525763104498</td><td>19.0853747</td><td>0.94625408038883</td><td>-4.6594172</td><td>7.869755</td><td>21.56543</td><td>16.72002</td><td>102.8351</td><td>/L</td><td>39.9562</td><td>44.3</td><td>83.3</td><td>37.2101</td><td>248.698</td><td>23.545</td><td>-23.71355</td><td>Cam</td><td>69.182384</td><td>70.1791322</td><td>31.7732083</td><td>0.0</td><td>0.0</td><td>149.355392</td><td>0.463118</td><td>2.7316824215</td><td>0.000355</td><td>0.012</td><td>0.013</td><td>0.013</td><td>0.012</td><td>80.151</td><td>0.0</td><td>0.018</td><td>12.2565</td><td>7e-07</td><td>0.02</td><td>0.08</td><td>8.2e-05</td><td>158.2618</td><td>-1.634345093</td><td>39.955</td><td>47.5992</td><td>26.9931</td><td>2458745.041666667</td></tr>\n",
       "<tr><td>3200 Phaethon (1983 TB)</td><td>14.6</td><td>0.15</td><td></td><td>m</td><td>60.78483</td><td>53.20345</td><td>61.16329</td><td>53.25296</td><td>-80.6832</td><td>24.57607</td><td>10.0477</td><td>55.789</td><td>-520.62</td><td>148.09</td><td>-412292.0</td><td>185084.7</td><td>326.075</td><td>3.4484373264</td><td>1.208</td><td>0.132</td><td>16.98</td><td>6.38</td><td>88.342</td><td>0.0011</td><td>370396.5</td><td>*</td><td>0.009108</td><td>0.0</td><td>0.0</td><td>0.0</td><td>0.0</td><td>68.81</td><td>0.0</td><td>0.0</td><td>0.0</td><td>27.6474</td><td>19.059</td><td>1.526222300627</td><td>19.0777962</td><td>0.94614278995883</td><td>-4.589645</td><td>7.86883</td><td>21.55732</td><td>16.71948</td><td>102.8879</td><td>/L</td><td>39.9308</td><td>44.1</td><td>83.1</td><td>37.1828</td><td>248.642</td><td>23.436</td><td>-23.71621</td><td>Cam</td><td>69.182384</td><td>70.1553368</td><td>31.7849922</td><td>0.0</td><td>0.0</td><td>149.334061</td><td>0.453471</td><td>3.7319036188</td><td>0.000355</td><td>0.013</td><td>0.013</td><td>0.013</td><td>0.013</td><td>80.34</td><td>0.0</td><td>0.018</td><td>12.2519</td><td>7e-07</td><td>0.02</td><td>0.08</td><td>8.2e-05</td><td>158.2709</td><td>-0.629115366</td><td>39.9296</td><td>47.5915</td><td>26.9957</td><td>2458745.083333333</td></tr>\n",
       "<tr><td>3552 Don Quixote (1983 SA)</td><td>12.9</td><td>0.15</td><td></td><td>m</td><td>105.94055</td><td>52.75734</td><td>106.32191</td><td>52.72439</td><td>16.8612</td><td>11.65847</td><td>38.1009</td><td>36.8677</td><td>-156.06</td><td>523.53</td><td>-249805.0</td><td>183181.8</td><td>324.279</td><td>3.4484373264</td><td>1.663</td><td>0.181</td><td>20.32</td><td>8.76</td><td>98.857</td><td>6.3e-05</td><td>274373.4</td><td>*</td><td>0.005544</td><td>0.0</td><td>0.0</td><td>0.0</td><td>0.0</td><td>105.54</td><td>0.0</td><td>0.0</td><td>0.0</td><td>86.8602</td><td>30.8989</td><td>4.591235694631</td><td>9.4338336</td><td>4.72568824794204</td><td>-13.7898989</td><td>39.302351</td><td>13.34831</td><td>23.8973</td><td>76.2148</td><td>/L</td><td>12.274</td><td>64.8</td><td>83.1</td><td>91.5129</td><td>285.359</td><td>288.807</td><td>-0.59167</td><td>Lyn</td><td>69.182384</td><td>101.3263243</td><td>29.9278669</td><td>0.0</td><td>0.0</td><td>163.996178</td><td>23.073485</td><td>3.7319036188</td><td>0.000355</td><td>0.066</td><td>0.079</td><td>0.08</td><td>0.065</td><td>73.058</td><td>0.03</td><td>0.103</td><td>79.3487</td><td>2e-06</td><td>0.11</td><td>0.38</td><td>0.000529</td><td>139.4273</td><td>-3.639689966</td><td>12.275</td><td>93.993</td><td>30.6065</td><td>2458745.083333333</td></tr>\n",
       "<tr><td>230 Athamantis</td><td>7.35</td><td>0.27</td><td></td><td>m</td><td>112.10699</td><td>17.78528</td><td>112.38474</td><td>17.74475</td><td>55.88918</td><td>-16.6718</td><td>81.2072</td><td>32.848</td><td>186.82</td><td>838.02</td><td>-227990.0</td><td>57255.11</td><td>288.865</td><td>3.4484373264</td><td>1.838</td><td>0.2</td><td>12.17</td><td>5.74</td><td>96.048</td><td>0.0024</td><td>230812.9</td><td>*</td><td>0.059589</td><td>0.0</td><td>0.0</td><td>0.0</td><td>0.0</td><td>96.77</td><td>0.01</td><td>0.0</td><td>0.0</td><td>88.0653</td><td>-4.4994</td><td>2.32074151922</td><td>1.1086157</td><td>2.57604799221944</td><td>-18.501685</td><td>21.424338</td><td>19.80303</td><td>35.47587</td><td>64.1147</td><td>/L</td><td>22.9297</td><td>67.3</td><td>83.1</td><td>92.9594</td><td>276.661</td><td>286.158</td><td>-3.29544</td><td>Gem</td><td>69.182384</td><td>111.3223114</td><td>-4.0501147</td><td>0.0</td><td>0.0</td><td>200.795887</td><td>15.987991</td><td>3.7319036188</td><td>0.000355</td><td>0.054</td><td>0.032</td><td>0.056</td><td>0.029</td><td>-15.849</td><td>0.01</td><td>0.063</td><td>55.1894</td><td>5e-06</td><td>0.06</td><td>0.21</td><td>0.000368</td><td>68.4182</td><td>-4.043878705</td><td>22.932</td><td>99.5612</td><td>-4.363</td><td>2458745.083333333</td></tr>\n",
       "<tr><td>4500 Pascal (1989 CL)</td><td>12.6</td><td>0.15</td><td></td><td></td><td>257.28887</td><td>-20.90887</td><td>257.57665</td><td>-20.93168</td><td>22.89588</td><td>-3.83759</td><td>220.9427</td><td>37.502</td><td>632.91</td><td>-556.13</td><td>295498.0</td><td>-82444.3</td><td>111.338</td><td>19.4265345247</td><td>1.639</td><td>0.179</td><td>19.11</td><td>7.71</td><td>98.133</td><td>0.0001</td><td>300119.9</td><td>*</td><td>0.005979</td><td>0.0</td><td>0.0</td><td>0.0</td><td>0.0</td><td>274.68</td><td>0.0</td><td>0.0</td><td>0.0</td><td>273.8518</td><td>1.997</td><td>3.686524416817</td><td>-0.4101443</td><td>3.66497529618628</td><td>25.3393454</td><td>30.48067</td><td>14.21916</td><td>30.59239</td><td>83.3666</td><td>/T</td><td>15.7089</td><td>142.1</td><td>85.0</td><td>80.9217</td><td>94.789</td><td>276.729</td><td>0.5045</td><td>Oph</td><td>69.182383</td><td>258.4010937</td><td>2.0058595</td><td>0.0</td><td>0.0</td><td>2.174299</td><td>11.3103</td><td>19.7301765486</td><td>0.000355</td><td>0.064</td><td>0.053</td><td>0.064</td><td>0.053</td><td>-7.05</td><td>0.02</td><td>0.083</td><td>70.4292</td><td>3.6e-06</td><td>0.04</td><td>0.14</td><td>0.00047</td><td>188.5827</td><td>2.254757679</td><td>15.7082</td><td>265.9901</td><td>2.0216</td><td>2458744.75</td></tr>\n",
       "</table>"
      ],
      "text/plain": [
       "<QTable masked=True length=11>\n",
       "        targetname            H       G    ...  PABLat       epoch      \n",
       "                             mag           ...   deg                    \n",
       "          str28            float64 float64 ... float64       object     \n",
       "-------------------------- ------- ------- ... ------- -----------------\n",
       "                 10 Hygiea    5.43    0.15 ...  3.1304 2458744.958333333\n",
       "                 10 Hygiea    5.43    0.15 ...  3.1305         2458745.0\n",
       "                 10 Hygiea    5.43    0.15 ...  3.1305 2458745.041666667\n",
       "                 10 Hygiea    5.43    0.15 ...  3.1306 2458745.083333333\n",
       "   3200 Phaethon (1983 TB)    14.6    0.15 ... 26.9878 2458744.958333333\n",
       "   3200 Phaethon (1983 TB)    14.6    0.15 ... 26.9905         2458745.0\n",
       "   3200 Phaethon (1983 TB)    14.6    0.15 ... 26.9931 2458745.041666667\n",
       "   3200 Phaethon (1983 TB)    14.6    0.15 ... 26.9957 2458745.083333333\n",
       "3552 Don Quixote (1983 SA)    12.9    0.15 ... 30.6065 2458745.083333333\n",
       "            230 Athamantis    7.35    0.27 ...  -4.363 2458745.083333333\n",
       "     4500 Pascal (1989 CL)    12.6    0.15 ...  2.0216        2458744.75"
      ]
     },
     "execution_count": 65,
     "metadata": {},
     "output_type": "execute_result"
    }
   ],
   "source": [
    "eph"
   ]
  },
  {
   "cell_type": "markdown",
   "metadata": {},
   "source": [
    "Let's check rates. Our telescope can only track at absolute rates less than 1 arcsec/second."
   ]
  },
  {
   "cell_type": "code",
   "execution_count": 66,
   "metadata": {},
   "outputs": [
    {
     "data": {
      "text/plain": [
       "[<Quantity 0.00272663 arcsec / s>,\n",
       " <Quantity 0.00267569 arcsec / s>,\n",
       " <Quantity 0.00263229 arcsec / s>,\n",
       " <Quantity 0.00259891 arcsec / s>,\n",
       " <Quantity 0.02321402 arcsec / s>,\n",
       " <Quantity 0.02332476 arcsec / s>,\n",
       " <Quantity 0.02339743 arcsec / s>,\n",
       " <Quantity 0.02342864 arcsec / s>,\n",
       " <Quantity 0.00569424 arcsec / s>,\n",
       " <Quantity 0.01620078 arcsec / s>,\n",
       " <Quantity 0.00644868 arcsec / s>]"
      ]
     },
     "execution_count": 66,
     "metadata": {},
     "output_type": "execute_result"
    }
   ],
   "source": [
    "import numpy as np\n",
    "\n",
    "list(np.sqrt(eph['RA*cos(Dec)_rate']**2 + eph['DEC_rate']**2).to('arcsec/s'))"
   ]
  },
  {
   "cell_type": "markdown",
   "metadata": {},
   "source": [
    "Rates are fine. Our targets for tonight are: "
   ]
  },
  {
   "cell_type": "code",
   "execution_count": 67,
   "metadata": {},
   "outputs": [
    {
     "data": {
      "text/plain": [
       "{'10 Hygiea',\n",
       " '230 Athamantis',\n",
       " '3200 Phaethon (1983 TB)',\n",
       " '3552 Don Quixote (1983 SA)',\n",
       " '4500 Pascal (1989 CL)'}"
      ]
     },
     "execution_count": 67,
     "metadata": {},
     "output_type": "execute_result"
    }
   ],
   "source": [
    "set(eph['targetname'])"
   ]
  },
  {
   "cell_type": "markdown",
   "metadata": {},
   "source": [
    "## 2. Combining data and plotting"
   ]
  },
  {
   "cell_type": "markdown",
   "metadata": {},
   "source": [
    "The observer sends you V-band photometric observations for Hygiea only:"
   ]
  },
  {
   "cell_type": "code",
   "execution_count": 68,
   "metadata": {},
   "outputs": [],
   "source": [
    "obs_epochs = Time([2458745.0417, 2458745.0418, 2458745.0419], format='jd')\n",
    "obs_mags = [8.53, 8.46, 8.49]*u.mag"
   ]
  },
  {
   "cell_type": "code",
   "execution_count": null,
   "metadata": {},
   "outputs": [],
   "source": []
  },
  {
   "cell_type": "code",
   "execution_count": 69,
   "metadata": {},
   "outputs": [
    {
     "data": {
      "text/plain": [
       "<Time object: scale='utc' format='jd' value=[2458745.0417 2458745.0418 2458745.0419]>"
      ]
     },
     "execution_count": 69,
     "metadata": {},
     "output_type": "execute_result"
    }
   ],
   "source": [
    "obs_epochs"
   ]
  },
  {
   "cell_type": "code",
   "execution_count": 70,
   "metadata": {},
   "outputs": [
    {
     "data": {
      "text/plain": [
       "array([2458745.04250072, 2458745.04260072, 2458745.04270072])"
      ]
     },
     "execution_count": 70,
     "metadata": {},
     "output_type": "execute_result"
    }
   ],
   "source": [
    "obs_epochs.tdb.jd"
   ]
  },
  {
   "cell_type": "markdown",
   "metadata": {},
   "source": [
    "We bundle the data as an `obs` object:"
   ]
  },
  {
   "cell_type": "code",
   "execution_count": 71,
   "metadata": {},
   "outputs": [],
   "source": [
    "from sbpy.data import Obs"
   ]
  },
  {
   "cell_type": "code",
   "execution_count": 72,
   "metadata": {},
   "outputs": [],
   "source": [
    "obs = Obs.from_dict({'targetname': [10]*len(obs_epochs), 'epoch': obs_epochs, 'mag': obs_mags})"
   ]
  },
  {
   "cell_type": "code",
   "execution_count": 73,
   "metadata": {},
   "outputs": [
    {
     "data": {
      "text/plain": [
       "<QTable length=3>\n",
       "targetname    epoch       mag  \n",
       "                          mag  \n",
       "  int64       object    float64\n",
       "---------- ------------ -------\n",
       "        10 2458745.0417    8.53\n",
       "        10 2458745.0418    8.46\n",
       "        10 2458745.0419    8.49"
      ]
     },
     "execution_count": 73,
     "metadata": {},
     "output_type": "execute_result"
    }
   ],
   "source": [
    "obs"
   ]
  },
  {
   "cell_type": "code",
   "execution_count": 74,
   "metadata": {},
   "outputs": [],
   "source": [
    "obs = obs.supplement()"
   ]
  },
  {
   "cell_type": "code",
   "execution_count": 75,
   "metadata": {},
   "outputs": [
    {
     "data": {
      "text/plain": [
       "<QTable masked=True length=3>\n",
       "targetname_obs    epoch       mag   targetname ... alpha_true  PABLon  PABLat\n",
       "                              mag              ...    deg       deg     deg  \n",
       "    int64         object    float64    str9    ...  float64   float64 float64\n",
       "-------------- ------------ ------- ---------- ... ---------- ------- -------\n",
       "            10 2458745.0417    8.53  10 Hygiea ...    16.1205 61.8539  3.1306\n",
       "            10 2458745.0418    8.46  10 Hygiea ...    16.1205 61.8539  3.1306\n",
       "            10 2458745.0419    8.49  10 Hygiea ...    16.1205  61.854  3.1306"
      ]
     },
     "execution_count": 75,
     "metadata": {},
     "output_type": "execute_result"
    }
   ],
   "source": [
    "obs"
   ]
  },
  {
   "cell_type": "markdown",
   "metadata": {},
   "source": [
    "We compare the expected brightness (`eph['V']`) to the actually measured brightness (`eph['mag']`):"
   ]
  },
  {
   "cell_type": "code",
   "execution_count": 76,
   "metadata": {},
   "outputs": [
    {
     "name": "stdout",
     "output_type": "stream",
     "text": [
      "[11.47 11.47 11.47] mag [8.53 8.46 8.49] mag\n"
     ]
    }
   ],
   "source": [
    "print(obs['V'], obs['mag'])"
   ]
  },
  {
   "cell_type": "markdown",
   "metadata": {},
   "source": [
    "Hygiea is actually 3 magnitudes brighter than it should be! Let's put this into perspective and compare it to previous observations:"
   ]
  },
  {
   "cell_type": "code",
   "execution_count": 77,
   "metadata": {},
   "outputs": [],
   "source": [
    "mpc = Obs.from_mpc('10')  # retrieve observations reported to the MPC for Hygiea"
   ]
  },
  {
   "cell_type": "code",
   "execution_count": 78,
   "metadata": {},
   "outputs": [
    {
     "data": {
      "text/plain": [
       "<QTable masked=True length=3593>\n",
       "number desig discovery note1 ...         DEC           mag   band observatory\n",
       "                             ...         deg           mag                   \n",
       "int64   str1    str1    str1 ...       float64       float64 str1     str3   \n",
       "------ ----- --------- ----- ... ------------------- ------- ---- -----------\n",
       "    10              --    -- ...  -6.339888888888889     0.0   --         058\n",
       "    10              --    -- ...  -6.337777777777777     0.0   --         058\n",
       "    10              --    -- ...  -6.337888888888888     0.0   --         058\n",
       "    10              --    -- ...  -21.78391666666667     0.0   --         787\n",
       "    10              --    -- ...  -21.75713888888889     0.0   --         787\n",
       "    10              --    -- ...           -21.75575     0.0   --         787\n",
       "    10              --    -- ... -21.744111111111113     0.0   --         787\n",
       "    10              --    -- ... -21.722555555555555     0.0   --         787\n",
       "    10              --    -- ...  -21.69661111111111     0.0   --         787\n",
       "   ...   ...       ...   ... ...                 ...     ...  ...         ...\n",
       "    10              --    -- ...   6.346027777777778    11.6    R         C94\n",
       "    10              --    -- ...              6.3465    11.5    R         C94\n",
       "    10              --    -- ...   7.153361111111112   11.88    o         T08\n",
       "    10              --    -- ...   7.153972222222222   11.84    o         T08\n",
       "    10              --    -- ...   7.154527777777778   11.73    o         T08\n",
       "    10              --    -- ...   7.154861111111112   11.87    o         T08\n",
       "    10              --    -- ...  22.492166666666666    11.9    R         W92\n",
       "    10              --    -- ...   22.49266666666667    11.9    R         W92\n",
       "    10              --    -- ...   22.71397222222222    11.3    I         L52\n",
       "    10              --    -- ...  22.714333333333332    11.2    I         L52"
      ]
     },
     "execution_count": 78,
     "metadata": {},
     "output_type": "execute_result"
    }
   ],
   "source": [
    "mpc"
   ]
  },
  {
   "cell_type": "code",
   "execution_count": 79,
   "metadata": {},
   "outputs": [
    {
     "data": {
      "text/plain": [
       "['number',\n",
       " 'desig',\n",
       " 'discovery',\n",
       " 'note1',\n",
       " 'note2',\n",
       " 'epoch',\n",
       " 'RA',\n",
       " 'DEC',\n",
       " 'mag',\n",
       " 'band',\n",
       " 'observatory']"
      ]
     },
     "execution_count": 79,
     "metadata": {},
     "output_type": "execute_result"
    }
   ],
   "source": [
    "list(mpc.field_names)"
   ]
  },
  {
   "cell_type": "code",
   "execution_count": 80,
   "metadata": {},
   "outputs": [],
   "source": [
    "mpc = mpc[mpc['band'] == 'V']  # extract V-band observations only"
   ]
  },
  {
   "cell_type": "code",
   "execution_count": 81,
   "metadata": {},
   "outputs": [
    {
     "data": {
      "text/html": [
       "<i>QTable masked=True length=1071</i>\n",
       "<table id=\"table140010484294992\" class=\"table-striped table-bordered table-condensed\">\n",
       "<thead><tr><th>number</th><th>desig</th><th>discovery</th><th>note1</th><th>note2</th><th>epoch</th><th>RA</th><th>DEC</th><th>mag</th><th>band</th><th>observatory</th></tr></thead>\n",
       "<thead><tr><th></th><th></th><th></th><th></th><th></th><th></th><th>deg</th><th>deg</th><th>mag</th><th></th><th></th></tr></thead>\n",
       "<thead><tr><th>int64</th><th>str1</th><th>str1</th><th>str1</th><th>str1</th><th>object</th><th>float64</th><th>float64</th><th>float64</th><th>str1</th><th>str3</th></tr></thead>\n",
       "<tr><td>10</td><td></td><td>--</td><td>--</td><td>M</td><td>2401848.53492</td><td>52.401708333333325</td><td>22.88175</td><td>10.5</td><td>V</td><td>534</td></tr>\n",
       "<tr><td>10</td><td></td><td>--</td><td>--</td><td>M</td><td>2420953.48705</td><td>200.82120833333332</td><td>-15.058416666666668</td><td>8.9</td><td>V</td><td>018</td></tr>\n",
       "<tr><td>10</td><td></td><td>--</td><td>--</td><td>M</td><td>2420955.45362</td><td>200.46224999999998</td><td>-14.93913888888889</td><td>8.7</td><td>V</td><td>018</td></tr>\n",
       "<tr><td>10</td><td></td><td>--</td><td>--</td><td>M</td><td>2420964.49213</td><td>198.74079166666664</td><td>-14.304416666666667</td><td>8.6</td><td>V</td><td>018</td></tr>\n",
       "<tr><td>10</td><td></td><td>--</td><td>--</td><td>M</td><td>2421435.42792</td><td>306.92837499999996</td><td>-17.31563888888889</td><td>9.5</td><td>V</td><td>020</td></tr>\n",
       "<tr><td>10</td><td></td><td>--</td><td>--</td><td>M</td><td>2421447.35384</td><td>304.52475</td><td>-17.666666666666668</td><td>9.1</td><td>V</td><td>531</td></tr>\n",
       "<tr><td>10</td><td></td><td>--</td><td>--</td><td>M</td><td>2421448.33781</td><td>304.33799999999997</td><td>-17.684805555555556</td><td>9.1</td><td>V</td><td>531</td></tr>\n",
       "<tr><td>10</td><td></td><td>--</td><td>--</td><td>M</td><td>2421468.32206</td><td>301.31787499999996</td><td>-18.09563888888889</td><td>10.0</td><td>V</td><td>531</td></tr>\n",
       "<tr><td>10</td><td></td><td>--</td><td>--</td><td>T</td><td>2445921.530308</td><td>310.94244583333324</td><td>-15.307538888888889</td><td>10.08</td><td>V</td><td>950</td></tr>\n",
       "<tr><td>...</td><td>...</td><td>...</td><td>...</td><td>...</td><td>...</td><td>...</td><td>...</td><td>...</td><td>...</td><td>...</td></tr>\n",
       "<tr><td>10</td><td></td><td>--</td><td>--</td><td>C</td><td>2457542.68901</td><td>170.45787499999997</td><td>-0.6051388888888889</td><td>11.4</td><td>V</td><td>703</td></tr>\n",
       "<tr><td>10</td><td></td><td>--</td><td>--</td><td>C</td><td>2457542.69505</td><td>170.4588333333333</td><td>-0.60525</td><td>11.4</td><td>V</td><td>703</td></tr>\n",
       "<tr><td>10</td><td></td><td>--</td><td>4</td><td>C</td><td>2457829.75646</td><td>276.4778333333333</td><td>-25.112000000000002</td><td>11.2</td><td>V</td><td>W88</td></tr>\n",
       "<tr><td>10</td><td></td><td>--</td><td>4</td><td>C</td><td>2457829.77043</td><td>276.4819166666667</td><td>-25.111777777777778</td><td>11.1</td><td>V</td><td>W88</td></tr>\n",
       "<tr><td>10</td><td></td><td>--</td><td>4</td><td>C</td><td>2457829.78428</td><td>276.4860416666666</td><td>-25.111583333333336</td><td>11.2</td><td>V</td><td>W88</td></tr>\n",
       "<tr><td>10</td><td></td><td>--</td><td>4</td><td>C</td><td>2457829.79323</td><td>276.4886666666667</td><td>-25.111472222222222</td><td>11.2</td><td>V</td><td>W88</td></tr>\n",
       "<tr><td>10</td><td></td><td>--</td><td>--</td><td>C</td><td>2457931.81887</td><td>279.231875</td><td>-23.770888888888887</td><td>9.5</td><td>V</td><td>703</td></tr>\n",
       "<tr><td>10</td><td></td><td>--</td><td>--</td><td>C</td><td>2457931.82282</td><td>279.23108333333334</td><td>-23.770833333333332</td><td>9.6</td><td>V</td><td>703</td></tr>\n",
       "<tr><td>10</td><td></td><td>--</td><td>--</td><td>C</td><td>2457931.82676</td><td>279.23016666666666</td><td>-23.770694444444445</td><td>9.5</td><td>V</td><td>703</td></tr>\n",
       "<tr><td>10</td><td></td><td>--</td><td>--</td><td>C</td><td>2457931.8307</td><td>279.22925</td><td>-23.770555555555553</td><td>9.5</td><td>V</td><td>703</td></tr>\n",
       "</table>"
      ],
      "text/plain": [
       "<QTable masked=True length=1071>\n",
       "number desig discovery note1 ...         DEC           mag   band observatory\n",
       "                             ...         deg           mag                   \n",
       "int64   str1    str1    str1 ...       float64       float64 str1     str3   \n",
       "------ ----- --------- ----- ... ------------------- ------- ---- -----------\n",
       "    10              --    -- ...            22.88175    10.5    V         534\n",
       "    10              --    -- ... -15.058416666666668     8.9    V         018\n",
       "    10              --    -- ...  -14.93913888888889     8.7    V         018\n",
       "    10              --    -- ... -14.304416666666667     8.6    V         018\n",
       "    10              --    -- ...  -17.31563888888889     9.5    V         020\n",
       "    10              --    -- ... -17.666666666666668     9.1    V         531\n",
       "    10              --    -- ... -17.684805555555556     9.1    V         531\n",
       "    10              --    -- ...  -18.09563888888889    10.0    V         531\n",
       "    10              --    -- ... -15.307538888888889   10.08    V         950\n",
       "   ...   ...       ...   ... ...                 ...     ...  ...         ...\n",
       "    10              --    -- ... -0.6051388888888889    11.4    V         703\n",
       "    10              --    -- ...            -0.60525    11.4    V         703\n",
       "    10              --     4 ... -25.112000000000002    11.2    V         W88\n",
       "    10              --     4 ... -25.111777777777778    11.1    V         W88\n",
       "    10              --     4 ... -25.111583333333336    11.2    V         W88\n",
       "    10              --     4 ... -25.111472222222222    11.2    V         W88\n",
       "    10              --    -- ... -23.770888888888887     9.5    V         703\n",
       "    10              --    -- ... -23.770833333333332     9.6    V         703\n",
       "    10              --    -- ... -23.770694444444445     9.5    V         703\n",
       "    10              --    -- ... -23.770555555555553     9.5    V         703"
      ]
     },
     "execution_count": 81,
     "metadata": {},
     "output_type": "execute_result"
    }
   ],
   "source": [
    "mpc"
   ]
  },
  {
   "cell_type": "code",
   "execution_count": 82,
   "metadata": {},
   "outputs": [
    {
     "data": {
      "text/plain": [
       "<matplotlib.legend.Legend at 0x7f56baef91d0>"
      ]
     },
     "execution_count": 82,
     "metadata": {},
     "output_type": "execute_result"
    },
    {
     "data": {
      "image/png": "[encoded data removed]",
      "text/plain": [
       "<Figure size 432x288 with 1 Axes>"
      ]
     },
     "metadata": {},
     "output_type": "display_data"
    }
   ],
   "source": [
    "import matplotlib.pyplot as plt\n",
    "\n",
    "plt.scatter(mpc['epoch'].jd, mpc['mag'], label='MPC')\n",
    "plt.scatter(obs['epoch'].jd, obs['mag'], label='568')\n",
    "plt.ylim([13, 8])\n",
    "plt.xlabel('JD')\n",
    "plt.ylabel('V (mag)')\n",
    "plt.legend(loc=3)"
   ]
  },
  {
   "cell_type": "markdown",
   "metadata": {},
   "source": [
    "We should write a paper..."
   ]
  },
  {
   "cell_type": "code",
   "execution_count": 88,
   "metadata": {},
   "outputs": [
    {
     "name": "stdout",
     "output_type": "stream",
     "text": [
      "% sbpy/software:_sbpy:\n",
      "\\bibitem[Mommert et al.(2019)]{2019JOSS....4.1426M} Mommert, M., and 11 colleagues 2019.\\ sbpy: A Python module for small-body planetary astronomy.\\ The Journal of Open Source Software 4, 1426.\n",
      "\n",
      "% sbpy.data.ephem.Ephem.from_horizons/software:_astroquery:\n",
      "\\bibitem[Ginsburg et al.(2019)]{2019AJ....157...98G} Ginsburg, A., and 24 colleagues 2019.\\ astroquery: An Astronomical Web-querying Package in Python.\\ The Astronomical Journal 157, 98.\n",
      "\n",
      "% sbpy.data.ephem.Ephem.from_horizons/data_source:\n",
      "\\bibitem[Giorgini et al.(1996)]{1996DPS....28.2504G} Giorgini, J.~D., and 9 colleagues 1996.\\ JPL's On-Line Solar System Data Service.\\ AAS/Division for Planetary Sciences Meeting Abstracts \\#28 25.04.\n",
      "\n",
      "% sbpy.data.obs.Obs.supplement/software:_astroquery:\n",
      "\\bibitem[Ginsburg et al.(2019)]{2019AJ....157...98G} Ginsburg, A., and 24 colleagues 2019.\\ astroquery: An Astronomical Web-querying Package in Python.\\ The Astronomical Journal 157, 98.\n",
      "\n",
      "% sbpy.data.obs.Obs.from_mpc/software:_astroquery:\n",
      "\\bibitem[Ginsburg et al.(2019)]{2019AJ....157...98G} Ginsburg, A., and 24 colleagues 2019.\\ astroquery: An Astronomical Web-querying Package in Python.\\ The Astronomical Journal 157, 98.\n",
      "\n",
      "% sbpy.data.obs.Obs.from_mpc/data_source:\n",
      "https://minorplanetcenter.net/db_search\n",
      "\n",
      "\n"
     ]
    }
   ],
   "source": [
    "print(bib.to_icarus())"
   ]
  }
 ],
 "metadata": {
  "kernelspec": {
   "display_name": "Python 3",
   "language": "python",
   "name": "python3"
  },
  "language_info": {
   "codemirror_mode": {
    "name": "ipython",
    "version": 3
   },
   "file_extension": ".py",
   "mimetype": "text/x-python",
   "name": "python",
   "nbconvert_exporter": "python",
   "pygments_lexer": "ipython3",
   "version": "3.6.8"
  }
 },
 "nbformat": 4,
 "nbformat_minor": 2
}
